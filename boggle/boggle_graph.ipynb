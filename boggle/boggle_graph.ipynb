{
 "metadata": {
  "name": ""
 },
 "nbformat": 3,
 "nbformat_minor": 0,
 "worksheets": [
  {
   "cells": [
    {
     "cell_type": "code",
     "collapsed": false,
     "input": [
      "def build_board():\n",
      "    # 4x4 graph where each node [key] points to all neighboring neighbors\n",
      "    # vertical, horizontal and diagonal bidirectional graph\n",
      "    graph_edges = {\n",
      "        0: [1, 4, 5],\n",
      "        1: [0, 2, 4, 5, 6],\n",
      "        2: [1, 3, 5, 6, 7],\n",
      "        3: [2, 6, 7],\n",
      "        4: [0, 1, 5, 8, 9],\n",
      "        5: [0, 1, 2, 4, 6, 8, 9, 10],\n",
      "        6: [1, 2, 3, 5, 7, 9, 10, 11],\n",
      "        7: [2, 3, 6, 10, 11],\n",
      "        8: [4, 5, 9, 12, 13],\n",
      "        9: [4, 5, 6, 8, 10, 12, 13, 14],\n",
      "        10: [5, 6, 7, 9, 11, 13, 14, 15],\n",
      "        11: [6, 7, 10, 14, 15],\n",
      "        12: [8, 9, 13],\n",
      "        13: [8, 9, 10, 12, 14],\n",
      "        14: [9, 10, 11, 13, 15],\n",
      "        15: [10, 11, 14]\n",
      "    }\n",
      "    return graph_edges"
     ],
     "language": "python",
     "metadata": {},
     "outputs": [],
     "prompt_number": 1
    },
    {
     "cell_type": "code",
     "collapsed": false,
     "input": [
      "x = [4,5,7,3]"
     ],
     "language": "python",
     "metadata": {},
     "outputs": [],
     "prompt_number": 151
    },
    {
     "cell_type": "code",
     "collapsed": false,
     "input": [
      "x = {'f':4, 't':7}"
     ],
     "language": "python",
     "metadata": {},
     "outputs": [],
     "prompt_number": 153
    },
    {
     "cell_type": "code",
     "collapsed": false,
     "input": [
      "if 'f' in x:\n",
      "    print('yay')"
     ],
     "language": "python",
     "metadata": {},
     "outputs": [
      {
       "output_type": "stream",
       "stream": "stdout",
       "text": [
        "yay\n"
       ]
      }
     ],
     "prompt_number": 157
    },
    {
     "cell_type": "code",
     "collapsed": false,
     "input": [
      "def fill_board(input_string):\n",
      "    occurances = {}\n",
      "    index = 0\n",
      "    for letter in input_string:\n",
      "        if occurances.get(letter):\n",
      "            occurances[letter].append(index)\n",
      "        else:\n",
      "            occurances[letter] = [index]\n",
      "        index += 1\n",
      "    return occurances"
     ],
     "language": "python",
     "metadata": {},
     "outputs": [],
     "prompt_number": 2
    },
    {
     "cell_type": "code",
     "collapsed": false,
     "input": [
      "class Storage(object):\n",
      "    def __init__(self):\n",
      "        self.storage = []\n",
      "\n",
      "    def put(self, node):\n",
      "        self.storage.append(node)\n",
      "\n",
      "    def __len__(self):\n",
      "        return len(self.storage)\n",
      "\n",
      "    def __str__(self):\n",
      "        return str(self.storage)\n",
      "\n",
      "\n",
      "class Stack(Storage):\n",
      "    def get(self):\n",
      "        return self.storage.pop()\n",
      "\n",
      "\n",
      "class Queue(Storage):\n",
      "    def get(self):\n",
      "        return self.storage.pop(0)"
     ],
     "language": "python",
     "metadata": {},
     "outputs": [],
     "prompt_number": 3
    },
    {
     "cell_type": "code",
     "collapsed": false,
     "input": [
      "graph = build_board()\n",
      "target = 'HEM'\n",
      "input_string = 'FGMENTPAHEMQLEFD'\n",
      "storage = Queue()"
     ],
     "language": "python",
     "metadata": {},
     "outputs": [],
     "prompt_number": 239
    },
    {
     "cell_type": "code",
     "collapsed": false,
     "input": [
      "open_paths = storage\n",
      "occur = fill_board(input_string)\n",
      "start = target[0]"
     ],
     "language": "python",
     "metadata": {},
     "outputs": [],
     "prompt_number": 240
    },
    {
     "cell_type": "code",
     "collapsed": false,
     "input": [
      "for node in occur[start]:\n",
      "    open_paths.put([node])\n",
      "found_target_path = []"
     ],
     "language": "python",
     "metadata": {},
     "outputs": [],
     "prompt_number": 241
    },
    {
     "cell_type": "code",
     "collapsed": false,
     "input": [],
     "language": "python",
     "metadata": {},
     "outputs": [],
     "prompt_number": 241
    },
    {
     "cell_type": "code",
     "collapsed": false,
     "input": [
      "print(open_paths)"
     ],
     "language": "python",
     "metadata": {},
     "outputs": [
      {
       "output_type": "stream",
       "stream": "stdout",
       "text": [
        "[[8]]\n"
       ]
      }
     ],
     "prompt_number": 242
    },
    {
     "cell_type": "code",
     "collapsed": false,
     "input": [
      "i = 0\n",
      "while len(open_paths) > 0 and i < len(target):\n",
      "    current_path = open_paths.get()\n",
      "    i = len(current_path) \n",
      "    print(\"open_paths %s\" % open_paths)\n",
      "    edges = graph[current_path[-1]]\n",
      "    print(\"current_path %s\" % current_path)\n",
      "    available_nodes = set.intersection(set(occur[target[i]]), set(edges))\n",
      "    for node in available_nodes:\n",
      "        print(\"available_nodes %s\" % available_nodes)\n",
      "        new_path = current_path + [node]\n",
      "        if len(new_path) == len(target):\n",
      "            found_target_path.append(new_path)\n",
      "        else:\n",
      "            if node not in current_path:\n",
      "                open_paths.put(new_path)\n",
      "                print(\"added path %s\" % (new_path))\n",
      "found_target_path"
     ],
     "language": "python",
     "metadata": {},
     "outputs": [
      {
       "output_type": "stream",
       "stream": "stdout",
       "text": [
        "open_paths []\n",
        "current_path [8]\n",
        "available_nodes set([9, 13])\n",
        "added path [8, 9]\n",
        "available_nodes set([9, 13])\n",
        "added path [8, 13]\n",
        "open_paths [[8, 13]]\n",
        "current_path [8, 9]\n",
        "available_nodes set([10])\n",
        "open_paths []\n",
        "current_path [8, 13]\n",
        "available_nodes set([10])\n"
       ]
      },
      {
       "metadata": {},
       "output_type": "pyout",
       "prompt_number": 243,
       "text": [
        "[[8, 9, 10], [8, 13, 10]]"
       ]
      }
     ],
     "prompt_number": 243
    },
    {
     "cell_type": "code",
     "collapsed": false,
     "input": [
      "visited_nodes"
     ],
     "language": "python",
     "metadata": {},
     "outputs": [
      {
       "metadata": {},
       "output_type": "pyout",
       "prompt_number": 207,
       "text": [
        "[2, 10, 3, 9, 13]"
       ]
      }
     ],
     "prompt_number": 207
    },
    {
     "cell_type": "code",
     "collapsed": false,
     "input": [
      "visited_node_list"
     ],
     "language": "python",
     "metadata": {},
     "outputs": [
      {
       "metadata": {},
       "output_type": "pyout",
       "prompt_number": 78,
       "text": [
        "[2, 10]"
       ]
      }
     ],
     "prompt_number": 78
    },
    {
     "cell_type": "code",
     "collapsed": false,
     "input": [],
     "language": "python",
     "metadata": {},
     "outputs": []
    }
   ],
   "metadata": {}
  }
 ]
}